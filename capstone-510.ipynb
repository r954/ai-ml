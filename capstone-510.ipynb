{
 "cells": [
  {
   "cell_type": "code",
   "execution_count": 1,
   "metadata": {},
   "outputs": [
    {
     "data": {
      "text/html": [
       "\n",
       "            <div>\n",
       "                <p><b>SparkSession - hive</b></p>\n",
       "                \n",
       "        <div>\n",
       "            <p><b>SparkContext</b></p>\n",
       "\n",
       "            <p><a href=\"http://DESKTOP-O59TL9J:4040\">Spark UI</a></p>\n",
       "\n",
       "            <dl>\n",
       "              <dt>Version</dt>\n",
       "                <dd><code>v3.0.0</code></dd>\n",
       "              <dt>Master</dt>\n",
       "                <dd><code>local[2]</code></dd>\n",
       "              <dt>AppName</dt>\n",
       "                <dd><code>PySparkShell</code></dd>\n",
       "            </dl>\n",
       "        </div>\n",
       "        \n",
       "            </div>\n",
       "        "
      ],
      "text/plain": [
       "<pyspark.sql.session.SparkSession at 0x9ca8fb8>"
      ]
     },
     "execution_count": 1,
     "metadata": {},
     "output_type": "execute_result"
    }
   ],
   "source": [
    "spark"
   ]
  },
  {
   "cell_type": "code",
   "execution_count": 2,
   "metadata": {},
   "outputs": [],
   "source": [
    "if 'sc' not in locals():\n",
    "    from pyspark.context import SparkContext\n",
    "    from pyspark.sql.context import SQLContext\n",
    "    from pyspark.sql.session import SparkSession\n",
    "    \n",
    "    sc = SparkContext()\n",
    "    sqlContext = SQLContext(sc)\n",
    "    spark = SparkSession(sc)"
   ]
  },
  {
   "cell_type": "code",
   "execution_count": 3,
   "metadata": {},
   "outputs": [],
   "source": [
    "import re\n",
    "import pandas as pd"
   ]
  },
  {
   "cell_type": "code",
   "execution_count": 4,
   "metadata": {},
   "outputs": [
    {
     "data": {
      "text/plain": [
       "['access.log']"
      ]
     },
     "execution_count": 4,
     "metadata": {},
     "output_type": "execute_result"
    }
   ],
   "source": [
    "import glob\n",
    "\n",
    "raw_data_files = glob.glob('*.log')\n",
    "raw_data_files"
   ]
  },
  {
   "cell_type": "code",
   "execution_count": 5,
   "metadata": {},
   "outputs": [
    {
     "name": "stdout",
     "output_type": "stream",
     "text": [
      "root\n",
      " |-- value: string (nullable = true)\n",
      "\n"
     ]
    }
   ],
   "source": [
    "\n",
    "base_df = spark.read.text(raw_data_files)\n",
    "base_df.printSchema()"
   ]
  },
  {
   "cell_type": "code",
   "execution_count": 6,
   "metadata": {},
   "outputs": [
    {
     "data": {
      "text/plain": [
       "pyspark.sql.dataframe.DataFrame"
      ]
     },
     "execution_count": 6,
     "metadata": {},
     "output_type": "execute_result"
    }
   ],
   "source": [
    "type(base_df)"
   ]
  },
  {
   "cell_type": "code",
   "execution_count": 7,
   "metadata": {},
   "outputs": [
    {
     "name": "stdout",
     "output_type": "stream",
     "text": [
      "+------------------------------------------------------------------------------------------------------------------------------------------------------------------------------------------------------------+\n",
      "|value                                                                                                                                                                                                       |\n",
      "+------------------------------------------------------------------------------------------------------------------------------------------------------------------------------------------------------------+\n",
      "|51.77.140.110 - - [30/Aug/2020:06:25:42 -0400] \"GET /wp-login.php HTTP/1.1\" 200 5365 \"-\" \"Mozilla/5.0 (X11; Ubuntu; Linux x86_64; rv:62.0) Gecko/20100101 Firefox/62.0\"                                     |\n",
      "|51.77.140.110 - - [30/Aug/2020:06:25:46 -0400] \"POST /wp-login.php HTTP/1.1\" 200 5496 \"-\" \"Mozilla/5.0 (X11; Ubuntu; Linux x86_64; rv:62.0) Gecko/20100101 Firefox/62.0\"                                    |\n",
      "|51.77.140.110 - - [30/Aug/2020:06:25:47 -0400] \"POST /xmlrpc.php HTTP/1.1\" 200 3591 \"-\" \"Mozilla/5.0 (X11; Ubuntu; Linux x86_64; rv:62.0) Gecko/20100101 Firefox/62.0\"                                      |\n",
      "|5.135.159.189 - - [30/Aug/2020:06:48:47 -0400] \"GET /wp-login.php HTTP/1.1\" 200 5365 \"-\" \"Mozilla/5.0 (X11; Ubuntu; Linux x86_64; rv:62.0) Gecko/20100101 Firefox/62.0\"                                     |\n",
      "|5.135.159.189 - - [30/Aug/2020:06:48:50 -0400] \"POST /wp-login.php HTTP/1.1\" 200 5496 \"-\" \"Mozilla/5.0 (X11; Ubuntu; Linux x86_64; rv:62.0) Gecko/20100101 Firefox/62.0\"                                    |\n",
      "|5.135.159.189 - - [30/Aug/2020:06:48:51 -0400] \"POST /xmlrpc.php HTTP/1.1\" 200 3591 \"-\" \"Mozilla/5.0 (X11; Ubuntu; Linux x86_64; rv:62.0) Gecko/20100101 Firefox/62.0\"                                      |\n",
      "|192.241.225.120 - - [30/Aug/2020:06:58:31 -0400] \"GET / HTTP/1.1\" 200 1557 \"-\" \"Mozilla/5.0 zgrab/0.x\"                                                                                                      |\n",
      "|106.38.241.168 - - [30/Aug/2020:07:11:09 -0400] \"GET / HTTP/1.1\" 301 526 \"-\" \"Sogou web spider/4.0(+http://www.sogou.com/docs/help/webmasters.htm#07)\"                                                      |\n",
      "|138.197.174.39 - - [30/Aug/2020:07:11:37 -0400] \"GET / HTTP/1.1\" 200 1613 \"-\" \"Mozilla/5.0 (Windows NT 10.0; Win64; x64) AppleWebKit/537.36 (KHTML, like Gecko) Chrome/83.0.4103.61 Safari/537.36\"          |\n",
      "|138.197.174.39 - - [30/Aug/2020:07:11:37 -0400] \"GET /favicon.ico HTTP/1.1\" 404 494 \"-\" \"Mozilla/5.0 (Windows NT 10.0; Win64; x64) AppleWebKit/537.36 (KHTML, like Gecko) Chrome/83.0.4103.61 Safari/537.36\"|\n",
      "+------------------------------------------------------------------------------------------------------------------------------------------------------------------------------------------------------------+\n",
      "only showing top 10 rows\n",
      "\n"
     ]
    }
   ],
   "source": [
    "base_df.show(10, truncate=False)"
   ]
  },
  {
   "cell_type": "code",
   "execution_count": 8,
   "metadata": {},
   "outputs": [
    {
     "data": {
      "text/plain": [
       "['51.77.140.110 - - [30/Aug/2020:06:25:42 -0400] \"GET /wp-login.php HTTP/1.1\" 200 5365 \"-\" \"Mozilla/5.0 (X11; Ubuntu; Linux x86_64; rv:62.0) Gecko/20100101 Firefox/62.0\"',\n",
       " '51.77.140.110 - - [30/Aug/2020:06:25:46 -0400] \"POST /wp-login.php HTTP/1.1\" 200 5496 \"-\" \"Mozilla/5.0 (X11; Ubuntu; Linux x86_64; rv:62.0) Gecko/20100101 Firefox/62.0\"',\n",
       " '51.77.140.110 - - [30/Aug/2020:06:25:47 -0400] \"POST /xmlrpc.php HTTP/1.1\" 200 3591 \"-\" \"Mozilla/5.0 (X11; Ubuntu; Linux x86_64; rv:62.0) Gecko/20100101 Firefox/62.0\"',\n",
       " '5.135.159.189 - - [30/Aug/2020:06:48:47 -0400] \"GET /wp-login.php HTTP/1.1\" 200 5365 \"-\" \"Mozilla/5.0 (X11; Ubuntu; Linux x86_64; rv:62.0) Gecko/20100101 Firefox/62.0\"',\n",
       " '5.135.159.189 - - [30/Aug/2020:06:48:50 -0400] \"POST /wp-login.php HTTP/1.1\" 200 5496 \"-\" \"Mozilla/5.0 (X11; Ubuntu; Linux x86_64; rv:62.0) Gecko/20100101 Firefox/62.0\"',\n",
       " '5.135.159.189 - - [30/Aug/2020:06:48:51 -0400] \"POST /xmlrpc.php HTTP/1.1\" 200 3591 \"-\" \"Mozilla/5.0 (X11; Ubuntu; Linux x86_64; rv:62.0) Gecko/20100101 Firefox/62.0\"',\n",
       " '192.241.225.120 - - [30/Aug/2020:06:58:31 -0400] \"GET / HTTP/1.1\" 200 1557 \"-\" \"Mozilla/5.0 zgrab/0.x\"',\n",
       " '106.38.241.168 - - [30/Aug/2020:07:11:09 -0400] \"GET / HTTP/1.1\" 301 526 \"-\" \"Sogou web spider/4.0(+http://www.sogou.com/docs/help/webmasters.htm#07)\"',\n",
       " '138.197.174.39 - - [30/Aug/2020:07:11:37 -0400] \"GET / HTTP/1.1\" 200 1613 \"-\" \"Mozilla/5.0 (Windows NT 10.0; Win64; x64) AppleWebKit/537.36 (KHTML, like Gecko) Chrome/83.0.4103.61 Safari/537.36\"',\n",
       " '138.197.174.39 - - [30/Aug/2020:07:11:37 -0400] \"GET /favicon.ico HTTP/1.1\" 404 494 \"-\" \"Mozilla/5.0 (Windows NT 10.0; Win64; x64) AppleWebKit/537.36 (KHTML, like Gecko) Chrome/83.0.4103.61 Safari/537.36\"',\n",
       " '138.197.174.39 - - [30/Aug/2020:07:11:38 -0400] \"GET / HTTP/1.1\" 200 1613 \"-\" \"Mozilla/5.0 (Windows NT 10.0; Win64; x64) AppleWebKit/537.36 (KHTML, like Gecko) Chrome/83.0.4103.61 Safari/537.36\"',\n",
       " '73.124.254.3 - - [30/Aug/2020:07:12:15 -0400] \"POST /wp-cron.php?doing_wp_cron=1598785935.1434218883514404296875 HTTP/1.1\" 200 3265 \"https://www.pcless.net/wp-cron.php?doing_wp_cron=1598785935.1434218883514404296875\" \"WordPress/5.4.1; http://www.pcless.net\"',\n",
       " '35.204.152.99 - - [30/Aug/2020:07:12:15 -0400] \"GET /wp-login.php HTTP/1.1\" 200 5365 \"-\" \"Mozilla/5.0 (X11; Ubuntu; Linux x86_64; rv:62.0) Gecko/20100101 Firefox/62.0\"',\n",
       " '35.204.152.99 - - [30/Aug/2020:07:12:16 -0400] \"POST /wp-login.php HTTP/1.1\" 200 5496 \"-\" \"Mozilla/5.0 (X11; Ubuntu; Linux x86_64; rv:62.0) Gecko/20100101 Firefox/62.0\"',\n",
       " '35.204.152.99 - - [30/Aug/2020:07:12:17 -0400] \"POST /xmlrpc.php HTTP/1.1\" 200 3591 \"-\" \"Mozilla/5.0 (X11; Ubuntu; Linux x86_64; rv:62.0) Gecko/20100101 Firefox/62.0\"']"
      ]
     },
     "execution_count": 8,
     "metadata": {},
     "output_type": "execute_result"
    }
   ],
   "source": [
    "\n",
    "sample_logs = [item['value'] for item in base_df.take(15)]\n",
    "sample_logs"
   ]
  },
  {
   "cell_type": "code",
   "execution_count": 9,
   "metadata": {},
   "outputs": [
    {
     "data": {
      "text/plain": [
       "['51.77.140.110',\n",
       " '51.77.140.110',\n",
       " '51.77.140.110',\n",
       " '5.135.159.189',\n",
       " '5.135.159.189',\n",
       " '5.135.159.189',\n",
       " '192.241.225.120',\n",
       " '106.38.241.168',\n",
       " '138.197.174.39',\n",
       " '138.197.174.39',\n",
       " '138.197.174.39',\n",
       " '73.124.254.3',\n",
       " '35.204.152.99',\n",
       " '35.204.152.99',\n",
       " '35.204.152.99']"
      ]
     },
     "execution_count": 9,
     "metadata": {},
     "output_type": "execute_result"
    }
   ],
   "source": [
    "host_pattern = r'(^\\S+\\.[\\S+\\.]+\\S+)\\s'\n",
    "hosts = [re.search(host_pattern, item).group(1)\n",
    "           if re.search(host_pattern, item)\n",
    "           else 'no match'\n",
    "           for item in sample_logs]\n",
    "hosts"
   ]
  },
  {
   "cell_type": "code",
   "execution_count": 10,
   "metadata": {},
   "outputs": [
    {
     "data": {
      "text/plain": [
       "['30/Aug/2020:06:25:42 -0400',\n",
       " '30/Aug/2020:06:25:46 -0400',\n",
       " '30/Aug/2020:06:25:47 -0400',\n",
       " '30/Aug/2020:06:48:47 -0400',\n",
       " '30/Aug/2020:06:48:50 -0400',\n",
       " '30/Aug/2020:06:48:51 -0400',\n",
       " '30/Aug/2020:06:58:31 -0400',\n",
       " '30/Aug/2020:07:11:09 -0400',\n",
       " '30/Aug/2020:07:11:37 -0400',\n",
       " '30/Aug/2020:07:11:37 -0400',\n",
       " '30/Aug/2020:07:11:38 -0400',\n",
       " '30/Aug/2020:07:12:15 -0400',\n",
       " '30/Aug/2020:07:12:15 -0400',\n",
       " '30/Aug/2020:07:12:16 -0400',\n",
       " '30/Aug/2020:07:12:17 -0400']"
      ]
     },
     "execution_count": 10,
     "metadata": {},
     "output_type": "execute_result"
    }
   ],
   "source": [
    "ts_pattern = r'\\[(\\d{2}/\\w{3}/\\d{4}:\\d{2}:\\d{2}:\\d{2} -\\d{4})]'\n",
    "timestamps = [re.search(ts_pattern, item).group(1) for item in sample_logs]\n",
    "timestamps"
   ]
  },
  {
   "cell_type": "code",
   "execution_count": 11,
   "metadata": {},
   "outputs": [
    {
     "data": {
      "text/plain": [
       "[('GET', '/wp-login.php', 'HTTP/1.1'),\n",
       " ('POST', '/wp-login.php', 'HTTP/1.1'),\n",
       " ('POST', '/xmlrpc.php', 'HTTP/1.1'),\n",
       " ('GET', '/wp-login.php', 'HTTP/1.1'),\n",
       " ('POST', '/wp-login.php', 'HTTP/1.1'),\n",
       " ('POST', '/xmlrpc.php', 'HTTP/1.1'),\n",
       " ('GET', '/', 'HTTP/1.1'),\n",
       " ('GET', '/', 'HTTP/1.1'),\n",
       " ('GET', '/', 'HTTP/1.1'),\n",
       " ('GET', '/favicon.ico', 'HTTP/1.1'),\n",
       " ('GET', '/', 'HTTP/1.1'),\n",
       " ('POST',\n",
       "  '/wp-cron.php?doing_wp_cron=1598785935.1434218883514404296875',\n",
       "  'HTTP/1.1'),\n",
       " ('GET', '/wp-login.php', 'HTTP/1.1'),\n",
       " ('POST', '/wp-login.php', 'HTTP/1.1'),\n",
       " ('POST', '/xmlrpc.php', 'HTTP/1.1')]"
      ]
     },
     "execution_count": 11,
     "metadata": {},
     "output_type": "execute_result"
    }
   ],
   "source": [
    "method_uri_protocol_pattern = r'\\\"(\\S+)\\s(\\S+)\\s*(\\S*)\\\"'\n",
    "method_uri_protocol = [re.search(method_uri_protocol_pattern, item).groups()\n",
    "               if re.search(method_uri_protocol_pattern, item)\n",
    "               else 'no match'\n",
    "              for item in sample_logs]\n",
    "method_uri_protocol"
   ]
  },
  {
   "cell_type": "code",
   "execution_count": 12,
   "metadata": {},
   "outputs": [
    {
     "name": "stdout",
     "output_type": "stream",
     "text": [
      "+---------------+--------------------------+------+-------------+--------+\n",
      "|host           |timestamp                 |method|endpoint     |protocol|\n",
      "+---------------+--------------------------+------+-------------+--------+\n",
      "|51.77.140.110  |30/Aug/2020:06:25:42 -0400|GET   |/wp-login.php|HTTP/1.1|\n",
      "|51.77.140.110  |30/Aug/2020:06:25:46 -0400|POST  |/wp-login.php|HTTP/1.1|\n",
      "|51.77.140.110  |30/Aug/2020:06:25:47 -0400|POST  |/xmlrpc.php  |HTTP/1.1|\n",
      "|5.135.159.189  |30/Aug/2020:06:48:47 -0400|GET   |/wp-login.php|HTTP/1.1|\n",
      "|5.135.159.189  |30/Aug/2020:06:48:50 -0400|POST  |/wp-login.php|HTTP/1.1|\n",
      "|5.135.159.189  |30/Aug/2020:06:48:51 -0400|POST  |/xmlrpc.php  |HTTP/1.1|\n",
      "|192.241.225.120|30/Aug/2020:06:58:31 -0400|GET   |/            |HTTP/1.1|\n",
      "|106.38.241.168 |30/Aug/2020:07:11:09 -0400|GET   |/            |HTTP/1.1|\n",
      "|138.197.174.39 |30/Aug/2020:07:11:37 -0400|GET   |/            |HTTP/1.1|\n",
      "|138.197.174.39 |30/Aug/2020:07:11:37 -0400|GET   |/favicon.ico |HTTP/1.1|\n",
      "+---------------+--------------------------+------+-------------+--------+\n",
      "only showing top 10 rows\n",
      "\n",
      "(247, 5)\n"
     ]
    }
   ],
   "source": [
    "from pyspark.sql.functions import regexp_extract\n",
    "\n",
    "logs_df = base_df.select(regexp_extract('value', host_pattern, 1).alias('host'),\n",
    "                         regexp_extract('value', ts_pattern, 1).alias('timestamp'),\n",
    "                         regexp_extract('value', method_uri_protocol_pattern, 1).alias('method'),\n",
    "                         regexp_extract('value', method_uri_protocol_pattern, 2).alias('endpoint'),\n",
    "                         regexp_extract('value', method_uri_protocol_pattern, 3).alias('protocol'))\n",
    "logs_df.show(10, truncate=False)\n",
    "print((logs_df.count(), len(logs_df.columns)))"
   ]
  },
  {
   "cell_type": "code",
   "execution_count": 13,
   "metadata": {},
   "outputs": [
    {
     "name": "stdout",
     "output_type": "stream",
     "text": [
      "['200', '200', '200', '200', '200', '200', '200', '301', '200', '404', '200', '200', '200', '200', '200']\n"
     ]
    }
   ],
   "source": [
    "status_pattern = r'\\s(\\d{3})\\s'\n",
    "status = [re.search(status_pattern, item).group(1) for item in sample_logs]\n",
    "print(status)"
   ]
  },
  {
   "cell_type": "code",
   "execution_count": 15,
   "metadata": {
    "scrolled": true
   },
   "outputs": [
    {
     "name": "stdout",
     "output_type": "stream",
     "text": [
      "+---------------+--------------------+------+-------------+--------+------+\n",
      "|           host|           timestamp|method|     endpoint|protocol|status|\n",
      "+---------------+--------------------+------+-------------+--------+------+\n",
      "|  51.77.140.110|30/Aug/2020:06:25...|   GET|/wp-login.php|HTTP/1.1|   200|\n",
      "|  51.77.140.110|30/Aug/2020:06:25...|  POST|/wp-login.php|HTTP/1.1|   200|\n",
      "|  51.77.140.110|30/Aug/2020:06:25...|  POST|  /xmlrpc.php|HTTP/1.1|   200|\n",
      "|  5.135.159.189|30/Aug/2020:06:48...|   GET|/wp-login.php|HTTP/1.1|   200|\n",
      "|  5.135.159.189|30/Aug/2020:06:48...|  POST|/wp-login.php|HTTP/1.1|   200|\n",
      "|  5.135.159.189|30/Aug/2020:06:48...|  POST|  /xmlrpc.php|HTTP/1.1|   200|\n",
      "|192.241.225.120|30/Aug/2020:06:58...|   GET|            /|HTTP/1.1|   200|\n",
      "| 106.38.241.168|30/Aug/2020:07:11...|   GET|            /|HTTP/1.1|   301|\n",
      "| 138.197.174.39|30/Aug/2020:07:11...|   GET|            /|HTTP/1.1|   200|\n",
      "| 138.197.174.39|30/Aug/2020:07:11...|   GET| /favicon.ico|HTTP/1.1|   404|\n",
      "+---------------+--------------------+------+-------------+--------+------+\n",
      "only showing top 10 rows\n",
      "\n",
      "(247, 6)\n"
     ]
    }
   ],
   "source": [
    "logs_df = base_df.select(regexp_extract('value', host_pattern, 1).alias('host'),\n",
    "                         regexp_extract('value', ts_pattern, 1).alias('timestamp'),\n",
    "                         regexp_extract('value', method_uri_protocol_pattern, 1).alias('method'),\n",
    "                         regexp_extract('value', method_uri_protocol_pattern, 2).alias('endpoint'),\n",
    "                         regexp_extract('value', method_uri_protocol_pattern, 3).alias('protocol'),\n",
    "                         regexp_extract('value', status_pattern, 1).cast('integer').alias('status')\n",
    "                        )\n",
    "logs_df.show(10, truncate=True)\n",
    "print((logs_df.count(), len(logs_df.columns)))"
   ]
  },
  {
   "cell_type": "code",
   "execution_count": 16,
   "metadata": {},
   "outputs": [
    {
     "data": {
      "text/plain": [
       "0"
      ]
     },
     "execution_count": 16,
     "metadata": {},
     "output_type": "execute_result"
    }
   ],
   "source": [
    "base_df.filter(base_df['value'].isNull()).count()"
   ]
  },
  {
   "cell_type": "code",
   "execution_count": 20,
   "metadata": {},
   "outputs": [
    {
     "data": {
      "text/plain": [
       "0"
      ]
     },
     "execution_count": 20,
     "metadata": {},
     "output_type": "execute_result"
    }
   ],
   "source": [
    "\n",
    "bad_rows_df = logs_df.filter(logs_df['host'].isNull()| \n",
    "                             logs_df['timestamp'].isNull() | \n",
    "                             logs_df['method'].isNull() |\n",
    "                             logs_df['endpoint'].isNull() |\n",
    "                             logs_df['status'].isNull() |\n",
    "                             logs_df['protocol'].isNull())\n",
    "bad_rows_df.count()"
   ]
  },
  {
   "cell_type": "code",
   "execution_count": 21,
   "metadata": {},
   "outputs": [
    {
     "data": {
      "text/plain": [
       "['host', 'timestamp', 'method', 'endpoint', 'protocol', 'status']"
      ]
     },
     "execution_count": 21,
     "metadata": {},
     "output_type": "execute_result"
    }
   ],
   "source": [
    "logs_df.columns"
   ]
  },
  {
   "cell_type": "code",
   "execution_count": 23,
   "metadata": {},
   "outputs": [
    {
     "name": "stdout",
     "output_type": "stream",
     "text": [
      "+---------------+--------------------+------+-------------+--------+------+\n",
      "|           host|           timestamp|method|     endpoint|protocol|status|\n",
      "+---------------+--------------------+------+-------------+--------+------+\n",
      "|  51.77.140.110|30/Aug/2020:06:25...|   GET|/wp-login.php|HTTP/1.1|   200|\n",
      "|  51.77.140.110|30/Aug/2020:06:25...|  POST|/wp-login.php|HTTP/1.1|   200|\n",
      "|  51.77.140.110|30/Aug/2020:06:25...|  POST|  /xmlrpc.php|HTTP/1.1|   200|\n",
      "|  5.135.159.189|30/Aug/2020:06:48...|   GET|/wp-login.php|HTTP/1.1|   200|\n",
      "|  5.135.159.189|30/Aug/2020:06:48...|  POST|/wp-login.php|HTTP/1.1|   200|\n",
      "|  5.135.159.189|30/Aug/2020:06:48...|  POST|  /xmlrpc.php|HTTP/1.1|   200|\n",
      "|192.241.225.120|30/Aug/2020:06:58...|   GET|            /|HTTP/1.1|   200|\n",
      "| 106.38.241.168|30/Aug/2020:07:11...|   GET|            /|HTTP/1.1|   301|\n",
      "| 138.197.174.39|30/Aug/2020:07:11...|   GET|            /|HTTP/1.1|   200|\n",
      "| 138.197.174.39|30/Aug/2020:07:11...|   GET| /favicon.ico|HTTP/1.1|   404|\n",
      "+---------------+--------------------+------+-------------+--------+------+\n",
      "only showing top 10 rows\n",
      "\n",
      "(247, 6)\n"
     ]
    }
   ],
   "source": [
    "logs_df = base_df.select(regexp_extract('value', host_pattern, 1).alias('host'),\n",
    "                         regexp_extract('value', ts_pattern, 1).alias('timestamp'),\n",
    "                         regexp_extract('value', method_uri_protocol_pattern, 1).alias('method'),\n",
    "                         regexp_extract('value', method_uri_protocol_pattern, 2).alias('endpoint'),\n",
    "                         regexp_extract('value', method_uri_protocol_pattern, 3).alias('protocol'),\n",
    "                         regexp_extract('value', status_pattern, 1).cast('integer').alias('status')\n",
    "                        )\n",
    "logs_df.show(10, truncate=True)\n",
    "print((logs_df.count(), len(logs_df.columns)))"
   ]
  }
 ],
 "metadata": {
  "kernelspec": {
   "display_name": "Python 3",
   "language": "python",
   "name": "python3"
  },
  "language_info": {
   "codemirror_mode": {
    "name": "ipython",
    "version": 3
   },
   "file_extension": ".py",
   "mimetype": "text/x-python",
   "name": "python",
   "nbconvert_exporter": "python",
   "pygments_lexer": "ipython3",
   "version": "3.8.5"
  }
 },
 "nbformat": 4,
 "nbformat_minor": 4
}
